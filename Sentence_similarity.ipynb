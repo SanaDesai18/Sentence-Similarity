{
  "nbformat": 4,
  "nbformat_minor": 0,
  "metadata": {
    "colab": {
      "name": "Sentence_similarity.ipynb",
      "provenance": []
    },
    "kernelspec": {
      "name": "python3",
      "display_name": "Python 3"
    },
    "language_info": {
      "name": "python"
    }
  },
  "cells": [
    {
      "cell_type": "code",
      "execution_count": 50,
      "metadata": {
        "id": "O2ndtaOUnx_J"
      },
      "outputs": [],
      "source": [
        "import pandas as pd"
      ]
    },
    {
      "cell_type": "code",
      "source": [
        "sentences = [\n",
        "             'Down, down, down. There was nothing else to do, so Alice soon began talking again.',\n",
        "             'Presently she began again.',\n",
        "             'Dinah my dear! I wish you were down here with me! There are no mice in the air, I’m afraid, but you might catch a bat, and that’s very like a mouse, you know.',\n",
        "             'Suddenly she came upon a little three-legged table, all made of solid glass; there was nothing on it except a tiny golden key, and Alice’s first thought was that it might belong to one of the doors of the hall; but, alas! either the locks were too large, or the key was too small, but at any rate it would not open any of them.',\n",
        "             'she knelt down and looked along the passage into the loveliest garden you ever saw.' ,\n",
        "             'Alice opened the door and found that it led into a small passage, not much larger than a rat-hole.', \n",
        "             'she could see it quite plainly through the glass, and she tried her best to climb up one of the legs of the table, but it was too slippery; and when she had tired herself out with trying, the poor little thing sat down and cried.',\n",
        "             'Oh dear, what nonsense I’m talking!”',\n",
        "             'After a time she heard a little pattering of feet in the distance, and she hastily dried her eyes to see what was coming.',\n",
        "             'However, the Multiplication Table doesn’t signify: let’s try Geography.',\n",
        "]"
      ],
      "metadata": {
        "id": "80lfTclkoYnv"
      },
      "execution_count": 114,
      "outputs": []
    },
    {
      "cell_type": "code",
      "source": [
        ""
      ],
      "metadata": {
        "id": "VpvXG4d8oYrY"
      },
      "execution_count": 51,
      "outputs": []
    },
    {
      "cell_type": "code",
      "source": [
        "!pip install -U sentence-transformers"
      ],
      "metadata": {
        "colab": {
          "base_uri": "https://localhost:8080/"
        },
        "id": "oF44D_42qkZe",
        "outputId": "a7989491-2013-4223-84d0-ded50df0540b"
      },
      "execution_count": 52,
      "outputs": [
        {
          "output_type": "stream",
          "name": "stdout",
          "text": [
            "Looking in indexes: https://pypi.org/simple, https://us-python.pkg.dev/colab-wheels/public/simple/\n",
            "Requirement already satisfied: sentence-transformers in /usr/local/lib/python3.7/dist-packages (2.2.2)\n",
            "Requirement already satisfied: scipy in /usr/local/lib/python3.7/dist-packages (from sentence-transformers) (1.7.3)\n",
            "Requirement already satisfied: torchvision in /usr/local/lib/python3.7/dist-packages (from sentence-transformers) (0.13.0+cu113)\n",
            "Requirement already satisfied: transformers<5.0.0,>=4.6.0 in /usr/local/lib/python3.7/dist-packages (from sentence-transformers) (4.20.1)\n",
            "Requirement already satisfied: huggingface-hub>=0.4.0 in /usr/local/lib/python3.7/dist-packages (from sentence-transformers) (0.8.1)\n",
            "Requirement already satisfied: tqdm in /usr/local/lib/python3.7/dist-packages (from sentence-transformers) (4.64.0)\n",
            "Requirement already satisfied: sentencepiece in /usr/local/lib/python3.7/dist-packages (from sentence-transformers) (0.1.96)\n",
            "Requirement already satisfied: numpy in /usr/local/lib/python3.7/dist-packages (from sentence-transformers) (1.21.6)\n",
            "Requirement already satisfied: nltk in /usr/local/lib/python3.7/dist-packages (from sentence-transformers) (3.7)\n",
            "Requirement already satisfied: torch>=1.6.0 in /usr/local/lib/python3.7/dist-packages (from sentence-transformers) (1.12.0+cu113)\n",
            "Requirement already satisfied: scikit-learn in /usr/local/lib/python3.7/dist-packages (from sentence-transformers) (1.0.2)\n",
            "Requirement already satisfied: typing-extensions>=3.7.4.3 in /usr/local/lib/python3.7/dist-packages (from huggingface-hub>=0.4.0->sentence-transformers) (4.1.1)\n",
            "Requirement already satisfied: importlib-metadata in /usr/local/lib/python3.7/dist-packages (from huggingface-hub>=0.4.0->sentence-transformers) (4.12.0)\n",
            "Requirement already satisfied: filelock in /usr/local/lib/python3.7/dist-packages (from huggingface-hub>=0.4.0->sentence-transformers) (3.7.1)\n",
            "Requirement already satisfied: pyyaml>=5.1 in /usr/local/lib/python3.7/dist-packages (from huggingface-hub>=0.4.0->sentence-transformers) (6.0)\n",
            "Requirement already satisfied: packaging>=20.9 in /usr/local/lib/python3.7/dist-packages (from huggingface-hub>=0.4.0->sentence-transformers) (21.3)\n",
            "Requirement already satisfied: requests in /usr/local/lib/python3.7/dist-packages (from huggingface-hub>=0.4.0->sentence-transformers) (2.23.0)\n",
            "Requirement already satisfied: pyparsing!=3.0.5,>=2.0.2 in /usr/local/lib/python3.7/dist-packages (from packaging>=20.9->huggingface-hub>=0.4.0->sentence-transformers) (3.0.9)\n",
            "Requirement already satisfied: tokenizers!=0.11.3,<0.13,>=0.11.1 in /usr/local/lib/python3.7/dist-packages (from transformers<5.0.0,>=4.6.0->sentence-transformers) (0.12.1)\n",
            "Requirement already satisfied: regex!=2019.12.17 in /usr/local/lib/python3.7/dist-packages (from transformers<5.0.0,>=4.6.0->sentence-transformers) (2022.6.2)\n",
            "Requirement already satisfied: zipp>=0.5 in /usr/local/lib/python3.7/dist-packages (from importlib-metadata->huggingface-hub>=0.4.0->sentence-transformers) (3.8.1)\n",
            "Requirement already satisfied: joblib in /usr/local/lib/python3.7/dist-packages (from nltk->sentence-transformers) (1.1.0)\n",
            "Requirement already satisfied: click in /usr/local/lib/python3.7/dist-packages (from nltk->sentence-transformers) (7.1.2)\n",
            "Requirement already satisfied: idna<3,>=2.5 in /usr/local/lib/python3.7/dist-packages (from requests->huggingface-hub>=0.4.0->sentence-transformers) (2.10)\n",
            "Requirement already satisfied: certifi>=2017.4.17 in /usr/local/lib/python3.7/dist-packages (from requests->huggingface-hub>=0.4.0->sentence-transformers) (2022.6.15)\n",
            "Requirement already satisfied: urllib3!=1.25.0,!=1.25.1,<1.26,>=1.21.1 in /usr/local/lib/python3.7/dist-packages (from requests->huggingface-hub>=0.4.0->sentence-transformers) (1.24.3)\n",
            "Requirement already satisfied: chardet<4,>=3.0.2 in /usr/local/lib/python3.7/dist-packages (from requests->huggingface-hub>=0.4.0->sentence-transformers) (3.0.4)\n",
            "Requirement already satisfied: threadpoolctl>=2.0.0 in /usr/local/lib/python3.7/dist-packages (from scikit-learn->sentence-transformers) (3.1.0)\n",
            "Requirement already satisfied: pillow!=8.3.*,>=5.3.0 in /usr/local/lib/python3.7/dist-packages (from torchvision->sentence-transformers) (7.1.2)\n"
          ]
        }
      ]
    },
    {
      "cell_type": "code",
      "source": [
        "from sentence_transformers import SentenceTransformer"
      ],
      "metadata": {
        "id": "GG0E-pRjoYuF"
      },
      "execution_count": 53,
      "outputs": []
    },
    {
      "cell_type": "code",
      "source": [
        "model = SentenceTransformer('sentence-transformers/all-MiniLM-L6-v2')\n",
        "sentence_embeddings = model.encode(sentences)"
      ],
      "metadata": {
        "id": "D1jHXmCPqirN"
      },
      "execution_count": 116,
      "outputs": []
    },
    {
      "cell_type": "code",
      "source": [
        "sentence_embeddings.shape"
      ],
      "metadata": {
        "colab": {
          "base_uri": "https://localhost:8080/"
        },
        "id": "vJf7K2BS8X1d",
        "outputId": "4546a57d-6d88-4625-a141-1d859f4fcd65"
      },
      "execution_count": 117,
      "outputs": [
        {
          "output_type": "execute_result",
          "data": {
            "text/plain": [
              "(10, 384)"
            ]
          },
          "metadata": {},
          "execution_count": 117
        }
      ]
    },
    {
      "cell_type": "code",
      "source": [
        "from sklearn.metrics.pairwise import cosine_similarity\n"
      ],
      "metadata": {
        "id": "pEsmrrONvMxB"
      },
      "execution_count": 118,
      "outputs": []
    },
    {
      "cell_type": "code",
      "source": [
        "cosine_similarity(\n",
        "    [sentence_embeddings[0]],\n",
        "    sentence_embeddings[1:])"
      ],
      "metadata": {
        "colab": {
          "base_uri": "https://localhost:8080/"
        },
        "id": "H28mcA80qRSa",
        "outputId": "11f7f951-b65c-421a-878a-c22b7b723479"
      },
      "execution_count": 120,
      "outputs": [
        {
          "output_type": "execute_result",
          "data": {
            "text/plain": [
              "array([[0.34808955, 0.24615395, 0.44296294, 0.25625923, 0.4576106 ,\n",
              "        0.273158  , 0.1791234 , 0.35302007, 0.05745126]], dtype=float32)"
            ]
          },
          "metadata": {},
          "execution_count": 120
        }
      ]
    },
    {
      "cell_type": "code",
      "source": [
        "from transformers import AutoTokenizer, AutoModel\n",
        "import torch"
      ],
      "metadata": {
        "id": "SpahZyUlqRVt"
      },
      "execution_count": 121,
      "outputs": []
    },
    {
      "cell_type": "code",
      "source": [
        "tokenizer = AutoTokenizer.from_pretrained('sentence-transformers/bert-base-nli-mean-tokens')\n",
        "model = AutoModel.from_pretrained('sentence-transformers/bert-base-nli-mean-tokens')"
      ],
      "metadata": {
        "id": "olXpJ5TgqRYh"
      },
      "execution_count": 122,
      "outputs": []
    },
    {
      "cell_type": "code",
      "source": [
        "tokens = {'input_ids': [], 'attention_mask': []}\n",
        "\n",
        "for sentence in sentences:\n",
        "    # encode each sentence and append to dictionary\n",
        "    new_tokens = tokenizer.encode_plus(sentence, max_length=128,\n",
        "                                       truncation=True, padding='max_length',\n",
        "                                       return_tensors='pt')\n",
        "    tokens['input_ids'].append(new_tokens['input_ids'][0])\n",
        "    tokens['attention_mask'].append(new_tokens['attention_mask'][0])\n",
        "\n",
        "# reformat list of tensors into single tensor\n",
        "tokens['input_ids'] = torch.stack(tokens['input_ids'])\n",
        "tokens['attention_mask'] = torch.stack(tokens['attention_mask'])"
      ],
      "metadata": {
        "id": "9Nl1OX2HqRbE"
      },
      "execution_count": 123,
      "outputs": []
    },
    {
      "cell_type": "code",
      "source": [
        "outputs = model(**tokens)\n",
        "outputs.keys()"
      ],
      "metadata": {
        "colab": {
          "base_uri": "https://localhost:8080/"
        },
        "id": "KF8jKLCH87ks",
        "outputId": "72f5d895-7887-415e-8b52-cb154bce12f4"
      },
      "execution_count": 124,
      "outputs": [
        {
          "output_type": "execute_result",
          "data": {
            "text/plain": [
              "odict_keys(['last_hidden_state', 'pooler_output'])"
            ]
          },
          "metadata": {},
          "execution_count": 124
        }
      ]
    },
    {
      "cell_type": "code",
      "source": [
        "embeddings = outputs.last_hidden_state\n",
        "embeddings"
      ],
      "metadata": {
        "colab": {
          "base_uri": "https://localhost:8080/"
        },
        "id": "Hf87XJbeIUVc",
        "outputId": "acb45bbc-12c9-4534-9dd0-07d6dd4aa440"
      },
      "execution_count": 125,
      "outputs": [
        {
          "output_type": "execute_result",
          "data": {
            "text/plain": [
              "tensor([[[-0.5725, -0.2582,  1.2679,  ...,  1.0191, -0.6003,  0.3181],\n",
              "         [-0.7022, -0.0770,  1.1637,  ...,  1.0347, -0.4110,  0.2389],\n",
              "         [-0.7907,  0.2725,  1.9286,  ...,  0.7708, -0.4785,  0.2986],\n",
              "         ...,\n",
              "         [-0.0689, -0.3695,  0.8521,  ...,  0.9260, -0.4685,  0.3847],\n",
              "         [-0.0912, -0.2562,  0.8676,  ...,  0.8459, -0.2884,  0.3101],\n",
              "         [-0.1246, -0.3658,  0.7316,  ...,  0.8016, -0.3454,  0.2326]],\n",
              "\n",
              "        [[ 0.2914, -1.0093,  2.5973,  ..., -0.3324, -0.4302, -0.0656],\n",
              "         [ 0.2372, -0.7725,  2.7641,  ..., -0.5494, -0.2798, -0.2300],\n",
              "         [ 0.4882, -1.0362,  2.5833,  ..., -0.3571, -0.4448, -0.1206],\n",
              "         ...,\n",
              "         [ 0.2622, -0.8296,  2.1079,  ..., -0.2499, -0.3384, -0.1022],\n",
              "         [ 0.3420, -0.8151,  2.1221,  ..., -0.2512, -0.3642, -0.0419],\n",
              "         [ 0.3693, -0.7528,  2.0748,  ..., -0.2194, -0.3325, -0.1034]],\n",
              "\n",
              "        [[-0.7408,  0.8430,  0.1358,  ...,  1.2144, -0.0063,  1.0074],\n",
              "         [-0.0702,  0.5346,  0.0220,  ...,  1.0398, -0.1022,  0.1500],\n",
              "         [-0.7028,  0.8212,  0.8859,  ...,  1.0761, -0.2942,  0.5570],\n",
              "         ...,\n",
              "         [-0.2727,  0.1957,  0.2877,  ...,  1.0302, -0.1935,  0.4027],\n",
              "         [-0.2771,  0.2096,  0.2681,  ...,  1.0073, -0.2196,  0.4447],\n",
              "         [-0.2570,  0.1423,  0.2067,  ...,  1.1161, -0.0635,  0.4302]],\n",
              "\n",
              "        ...,\n",
              "\n",
              "        [[ 0.3573,  0.8074,  2.1827,  ..., -0.4077, -0.0140,  0.7174],\n",
              "         [ 0.4253,  0.7786,  2.2680,  ..., -0.5553,  0.3734,  0.4475],\n",
              "         [ 0.6705,  0.8258,  2.1378,  ..., -0.6550,  0.1433,  0.2901],\n",
              "         ...,\n",
              "         [ 0.5015,  0.7020,  1.7049,  ..., -0.0853, -0.2272,  0.7251],\n",
              "         [ 0.5624,  0.5775,  1.9034,  ..., -0.0179, -0.0429,  0.3960],\n",
              "         [ 0.5255,  0.6538,  1.5954,  ..., -0.1118, -0.1098,  0.5839]],\n",
              "\n",
              "        [[-0.1791,  0.1914,  1.0454,  ...,  0.7817, -1.1201,  1.0170],\n",
              "         [-0.2519, -0.1135,  1.2166,  ...,  0.4442, -1.3898,  0.9532],\n",
              "         [-0.2948, -0.2030,  1.0613,  ...,  0.7297, -1.2050,  1.2975],\n",
              "         ...,\n",
              "         [-0.0782, -0.3542,  0.7637,  ...,  0.6993, -0.7913,  0.2241],\n",
              "         [-0.3454, -0.4427,  0.8628,  ...,  0.6720, -0.8357,  0.4837],\n",
              "         [-0.2617, -0.3703,  0.8728,  ...,  0.6422, -0.8273,  0.4078]],\n",
              "\n",
              "        [[ 0.3129,  1.2433,  0.6135,  ...,  0.4060, -0.0728,  0.5588],\n",
              "         [-0.0164,  1.3421,  0.7553,  ...,  0.4034, -0.1995,  0.2696],\n",
              "         [ 0.0497,  1.2506,  0.7115,  ...,  0.3243, -0.1988,  0.4412],\n",
              "         ...,\n",
              "         [ 0.0828,  0.6000, -0.0822,  ...,  0.4319,  0.2052,  0.7682],\n",
              "         [-0.0147,  0.4323, -0.0559,  ...,  0.0538,  0.1863,  0.3550],\n",
              "         [-0.0458,  0.4796,  0.0179,  ...,  0.2486,  0.0113,  0.3822]]],\n",
              "       grad_fn=<NativeLayerNormBackward0>)"
            ]
          },
          "metadata": {},
          "execution_count": 125
        }
      ]
    },
    {
      "cell_type": "code",
      "source": [
        "embeddings.shape\n"
      ],
      "metadata": {
        "colab": {
          "base_uri": "https://localhost:8080/"
        },
        "id": "aVYeuP8W87n8",
        "outputId": "458fce87-40fb-4619-fe01-0def177f6297"
      },
      "execution_count": 126,
      "outputs": [
        {
          "output_type": "execute_result",
          "data": {
            "text/plain": [
              "torch.Size([10, 128, 768])"
            ]
          },
          "metadata": {},
          "execution_count": 126
        }
      ]
    },
    {
      "cell_type": "code",
      "source": [
        "attention_mask = tokens['attention_mask']\n",
        "attention_mask.shape"
      ],
      "metadata": {
        "colab": {
          "base_uri": "https://localhost:8080/"
        },
        "id": "iqtHg9db87rB",
        "outputId": "9b659260-f024-4a05-9a55-f3864c8ee106"
      },
      "execution_count": 127,
      "outputs": [
        {
          "output_type": "execute_result",
          "data": {
            "text/plain": [
              "torch.Size([10, 128])"
            ]
          },
          "metadata": {},
          "execution_count": 127
        }
      ]
    },
    {
      "cell_type": "code",
      "source": [
        "mask = attention_mask.unsqueeze(-1).expand(embeddings.size()).float()\n",
        "mask.shape"
      ],
      "metadata": {
        "colab": {
          "base_uri": "https://localhost:8080/"
        },
        "id": "zFGcKg3F87tG",
        "outputId": "baf6421e-26a7-452e-b4c3-e787bd39be41"
      },
      "execution_count": 128,
      "outputs": [
        {
          "output_type": "execute_result",
          "data": {
            "text/plain": [
              "torch.Size([10, 128, 768])"
            ]
          },
          "metadata": {},
          "execution_count": 128
        }
      ]
    },
    {
      "cell_type": "code",
      "source": [
        "mask"
      ],
      "metadata": {
        "colab": {
          "base_uri": "https://localhost:8080/"
        },
        "id": "Ffm-NLBv87vb",
        "outputId": "780b98e1-551d-4b7b-d774-1ac94f498165"
      },
      "execution_count": 129,
      "outputs": [
        {
          "output_type": "execute_result",
          "data": {
            "text/plain": [
              "tensor([[[1., 1., 1.,  ..., 1., 1., 1.],\n",
              "         [1., 1., 1.,  ..., 1., 1., 1.],\n",
              "         [1., 1., 1.,  ..., 1., 1., 1.],\n",
              "         ...,\n",
              "         [0., 0., 0.,  ..., 0., 0., 0.],\n",
              "         [0., 0., 0.,  ..., 0., 0., 0.],\n",
              "         [0., 0., 0.,  ..., 0., 0., 0.]],\n",
              "\n",
              "        [[1., 1., 1.,  ..., 1., 1., 1.],\n",
              "         [1., 1., 1.,  ..., 1., 1., 1.],\n",
              "         [1., 1., 1.,  ..., 1., 1., 1.],\n",
              "         ...,\n",
              "         [0., 0., 0.,  ..., 0., 0., 0.],\n",
              "         [0., 0., 0.,  ..., 0., 0., 0.],\n",
              "         [0., 0., 0.,  ..., 0., 0., 0.]],\n",
              "\n",
              "        [[1., 1., 1.,  ..., 1., 1., 1.],\n",
              "         [1., 1., 1.,  ..., 1., 1., 1.],\n",
              "         [1., 1., 1.,  ..., 1., 1., 1.],\n",
              "         ...,\n",
              "         [0., 0., 0.,  ..., 0., 0., 0.],\n",
              "         [0., 0., 0.,  ..., 0., 0., 0.],\n",
              "         [0., 0., 0.,  ..., 0., 0., 0.]],\n",
              "\n",
              "        ...,\n",
              "\n",
              "        [[1., 1., 1.,  ..., 1., 1., 1.],\n",
              "         [1., 1., 1.,  ..., 1., 1., 1.],\n",
              "         [1., 1., 1.,  ..., 1., 1., 1.],\n",
              "         ...,\n",
              "         [0., 0., 0.,  ..., 0., 0., 0.],\n",
              "         [0., 0., 0.,  ..., 0., 0., 0.],\n",
              "         [0., 0., 0.,  ..., 0., 0., 0.]],\n",
              "\n",
              "        [[1., 1., 1.,  ..., 1., 1., 1.],\n",
              "         [1., 1., 1.,  ..., 1., 1., 1.],\n",
              "         [1., 1., 1.,  ..., 1., 1., 1.],\n",
              "         ...,\n",
              "         [0., 0., 0.,  ..., 0., 0., 0.],\n",
              "         [0., 0., 0.,  ..., 0., 0., 0.],\n",
              "         [0., 0., 0.,  ..., 0., 0., 0.]],\n",
              "\n",
              "        [[1., 1., 1.,  ..., 1., 1., 1.],\n",
              "         [1., 1., 1.,  ..., 1., 1., 1.],\n",
              "         [1., 1., 1.,  ..., 1., 1., 1.],\n",
              "         ...,\n",
              "         [0., 0., 0.,  ..., 0., 0., 0.],\n",
              "         [0., 0., 0.,  ..., 0., 0., 0.],\n",
              "         [0., 0., 0.,  ..., 0., 0., 0.]]])"
            ]
          },
          "metadata": {},
          "execution_count": 129
        }
      ]
    },
    {
      "cell_type": "code",
      "source": [
        "masked_embeddings = embeddings * mask\n",
        "masked_embeddings.shape"
      ],
      "metadata": {
        "colab": {
          "base_uri": "https://localhost:8080/"
        },
        "id": "EMRRNO-vIl3W",
        "outputId": "450bbe19-feb6-4c5e-afa1-dc814a90ecfe"
      },
      "execution_count": 130,
      "outputs": [
        {
          "output_type": "execute_result",
          "data": {
            "text/plain": [
              "torch.Size([10, 128, 768])"
            ]
          },
          "metadata": {},
          "execution_count": 130
        }
      ]
    },
    {
      "cell_type": "code",
      "source": [
        "masked_embeddings"
      ],
      "metadata": {
        "colab": {
          "base_uri": "https://localhost:8080/"
        },
        "id": "_Dk6VfYh87y7",
        "outputId": "ad0ff9c1-25c2-4e34-9b37-b6758500d354"
      },
      "execution_count": 131,
      "outputs": [
        {
          "output_type": "execute_result",
          "data": {
            "text/plain": [
              "tensor([[[-0.5725, -0.2582,  1.2679,  ...,  1.0191, -0.6003,  0.3181],\n",
              "         [-0.7022, -0.0770,  1.1637,  ...,  1.0347, -0.4110,  0.2389],\n",
              "         [-0.7907,  0.2725,  1.9286,  ...,  0.7708, -0.4785,  0.2986],\n",
              "         ...,\n",
              "         [-0.0000, -0.0000,  0.0000,  ...,  0.0000, -0.0000,  0.0000],\n",
              "         [-0.0000, -0.0000,  0.0000,  ...,  0.0000, -0.0000,  0.0000],\n",
              "         [-0.0000, -0.0000,  0.0000,  ...,  0.0000, -0.0000,  0.0000]],\n",
              "\n",
              "        [[ 0.2914, -1.0093,  2.5973,  ..., -0.3324, -0.4302, -0.0656],\n",
              "         [ 0.2372, -0.7725,  2.7641,  ..., -0.5494, -0.2798, -0.2300],\n",
              "         [ 0.4882, -1.0362,  2.5833,  ..., -0.3571, -0.4448, -0.1206],\n",
              "         ...,\n",
              "         [ 0.0000, -0.0000,  0.0000,  ..., -0.0000, -0.0000, -0.0000],\n",
              "         [ 0.0000, -0.0000,  0.0000,  ..., -0.0000, -0.0000, -0.0000],\n",
              "         [ 0.0000, -0.0000,  0.0000,  ..., -0.0000, -0.0000, -0.0000]],\n",
              "\n",
              "        [[-0.7408,  0.8430,  0.1358,  ...,  1.2144, -0.0063,  1.0074],\n",
              "         [-0.0702,  0.5346,  0.0220,  ...,  1.0398, -0.1022,  0.1500],\n",
              "         [-0.7028,  0.8212,  0.8859,  ...,  1.0761, -0.2942,  0.5570],\n",
              "         ...,\n",
              "         [-0.0000,  0.0000,  0.0000,  ...,  0.0000, -0.0000,  0.0000],\n",
              "         [-0.0000,  0.0000,  0.0000,  ...,  0.0000, -0.0000,  0.0000],\n",
              "         [-0.0000,  0.0000,  0.0000,  ...,  0.0000, -0.0000,  0.0000]],\n",
              "\n",
              "        ...,\n",
              "\n",
              "        [[ 0.3573,  0.8074,  2.1827,  ..., -0.4077, -0.0140,  0.7174],\n",
              "         [ 0.4253,  0.7786,  2.2680,  ..., -0.5553,  0.3734,  0.4475],\n",
              "         [ 0.6705,  0.8258,  2.1378,  ..., -0.6550,  0.1433,  0.2901],\n",
              "         ...,\n",
              "         [ 0.0000,  0.0000,  0.0000,  ..., -0.0000, -0.0000,  0.0000],\n",
              "         [ 0.0000,  0.0000,  0.0000,  ..., -0.0000, -0.0000,  0.0000],\n",
              "         [ 0.0000,  0.0000,  0.0000,  ..., -0.0000, -0.0000,  0.0000]],\n",
              "\n",
              "        [[-0.1791,  0.1914,  1.0454,  ...,  0.7817, -1.1201,  1.0170],\n",
              "         [-0.2519, -0.1135,  1.2166,  ...,  0.4442, -1.3898,  0.9532],\n",
              "         [-0.2948, -0.2030,  1.0613,  ...,  0.7297, -1.2050,  1.2975],\n",
              "         ...,\n",
              "         [-0.0000, -0.0000,  0.0000,  ...,  0.0000, -0.0000,  0.0000],\n",
              "         [-0.0000, -0.0000,  0.0000,  ...,  0.0000, -0.0000,  0.0000],\n",
              "         [-0.0000, -0.0000,  0.0000,  ...,  0.0000, -0.0000,  0.0000]],\n",
              "\n",
              "        [[ 0.3129,  1.2433,  0.6135,  ...,  0.4060, -0.0728,  0.5588],\n",
              "         [-0.0164,  1.3421,  0.7553,  ...,  0.4034, -0.1995,  0.2696],\n",
              "         [ 0.0497,  1.2506,  0.7115,  ...,  0.3243, -0.1988,  0.4412],\n",
              "         ...,\n",
              "         [ 0.0000,  0.0000, -0.0000,  ...,  0.0000,  0.0000,  0.0000],\n",
              "         [-0.0000,  0.0000, -0.0000,  ...,  0.0000,  0.0000,  0.0000],\n",
              "         [-0.0000,  0.0000,  0.0000,  ...,  0.0000,  0.0000,  0.0000]]],\n",
              "       grad_fn=<MulBackward0>)"
            ]
          },
          "metadata": {},
          "execution_count": 131
        }
      ]
    },
    {
      "cell_type": "code",
      "source": [
        ""
      ],
      "metadata": {
        "id": "ZSMkrhLmIqD2"
      },
      "execution_count": 131,
      "outputs": []
    },
    {
      "cell_type": "code",
      "source": [
        "summed = torch.sum(masked_embeddings, 1)\n",
        "summed.shape"
      ],
      "metadata": {
        "colab": {
          "base_uri": "https://localhost:8080/"
        },
        "id": "dOHvW-igqRdn",
        "outputId": "fd3259f4-bea7-449b-b40e-7559039e4df7"
      },
      "execution_count": 132,
      "outputs": [
        {
          "output_type": "execute_result",
          "data": {
            "text/plain": [
              "torch.Size([10, 768])"
            ]
          },
          "metadata": {},
          "execution_count": 132
        }
      ]
    },
    {
      "cell_type": "code",
      "source": [
        "summed_mask = torch.clamp(mask.sum(1), min=1e-9)\n",
        "summed_mask.shape"
      ],
      "metadata": {
        "colab": {
          "base_uri": "https://localhost:8080/"
        },
        "id": "tXzLvhsN9XDu",
        "outputId": "61961ea6-4343-402d-fb58-87c8ef055052"
      },
      "execution_count": 133,
      "outputs": [
        {
          "output_type": "execute_result",
          "data": {
            "text/plain": [
              "torch.Size([10, 768])"
            ]
          },
          "metadata": {},
          "execution_count": 133
        }
      ]
    },
    {
      "cell_type": "code",
      "source": [
        "\n",
        "summed_mask"
      ],
      "metadata": {
        "colab": {
          "base_uri": "https://localhost:8080/"
        },
        "id": "UP2nNYDe9XG1",
        "outputId": "63732241-dd4b-41f9-d37f-052a41ce7874"
      },
      "execution_count": 134,
      "outputs": [
        {
          "output_type": "execute_result",
          "data": {
            "text/plain": [
              "tensor([[22., 22., 22.,  ..., 22., 22., 22.],\n",
              "        [ 7.,  7.,  7.,  ...,  7.,  7.,  7.],\n",
              "        [47., 47., 47.,  ..., 47., 47., 47.],\n",
              "        ...,\n",
              "        [13., 13., 13.,  ..., 13., 13., 13.],\n",
              "        [29., 29., 29.,  ..., 29., 29., 29.],\n",
              "        [19., 19., 19.,  ..., 19., 19., 19.]])"
            ]
          },
          "metadata": {},
          "execution_count": 134
        }
      ]
    },
    {
      "cell_type": "code",
      "source": [
        "\n",
        "mean_pooled = summed / summed_mask"
      ],
      "metadata": {
        "id": "P0o0EYMm9XJc"
      },
      "execution_count": 135,
      "outputs": []
    },
    {
      "cell_type": "code",
      "source": [
        "mean_pooled"
      ],
      "metadata": {
        "colab": {
          "base_uri": "https://localhost:8080/"
        },
        "id": "DvcGxF6K9XMC",
        "outputId": "6b75eab8-05f8-49b3-b94c-a8f240d05c80"
      },
      "execution_count": 136,
      "outputs": [
        {
          "output_type": "execute_result",
          "data": {
            "text/plain": [
              "tensor([[-0.5726, -0.0466,  1.3504,  ...,  1.1020, -0.4344,  0.1422],\n",
              "        [ 0.2931, -0.8939,  2.7762,  ..., -0.2616, -0.3088, -0.3072],\n",
              "        [-0.4488,  0.8217,  0.4860,  ...,  1.1170, -0.2369,  0.6522],\n",
              "        ...,\n",
              "        [ 0.5556,  0.7498,  2.3417,  ..., -0.3289,  0.0677,  0.4777],\n",
              "        [-0.1190, -0.0122,  1.1479,  ...,  0.6862, -1.1993,  0.5422],\n",
              "        [ 0.0725,  1.2674,  0.5034,  ...,  0.3016, -0.3126,  0.2467]],\n",
              "       grad_fn=<DivBackward0>)"
            ]
          },
          "metadata": {},
          "execution_count": 136
        }
      ]
    },
    {
      "cell_type": "code",
      "source": [
        "mean_pooled.shape"
      ],
      "metadata": {
        "colab": {
          "base_uri": "https://localhost:8080/"
        },
        "id": "7Flh3OMTI8Ko",
        "outputId": "fb43bf9c-ac75-4667-a101-99d6e9ce78da"
      },
      "execution_count": 137,
      "outputs": [
        {
          "output_type": "execute_result",
          "data": {
            "text/plain": [
              "torch.Size([10, 768])"
            ]
          },
          "metadata": {},
          "execution_count": 137
        }
      ]
    },
    {
      "cell_type": "code",
      "source": [
        "mean_pooled = mean_pooled.detach().numpy()\n",
        "\n",
        "\n",
        "cosine_similarity(\n",
        "    [mean_pooled[0]],\n",
        "    mean_pooled[:])"
      ],
      "metadata": {
        "colab": {
          "base_uri": "https://localhost:8080/"
        },
        "id": "r6HWPc769XOd",
        "outputId": "38114b7c-45f9-4a21-9509-8caf7a034789"
      },
      "execution_count": 138,
      "outputs": [
        {
          "output_type": "execute_result",
          "data": {
            "text/plain": [
              "array([[1.0000001 , 0.53202623, 0.5009852 , 0.46096292, 0.3418365 ,\n",
              "        0.40261245, 0.50014305, 0.36782768, 0.5542    , 0.3794273 ]],\n",
              "      dtype=float32)"
            ]
          },
          "metadata": {},
          "execution_count": 138
        }
      ]
    },
    {
      "cell_type": "code",
      "source": [
        ""
      ],
      "metadata": {
        "id": "yVLOngDg9qmI"
      },
      "execution_count": 138,
      "outputs": []
    },
    {
      "cell_type": "code",
      "source": [
        ""
      ],
      "metadata": {
        "id": "XXVvxbSI9qpc"
      },
      "execution_count": null,
      "outputs": []
    },
    {
      "cell_type": "code",
      "source": [
        ""
      ],
      "metadata": {
        "id": "sDq25Sko9XQ7"
      },
      "execution_count": 43,
      "outputs": []
    },
    {
      "cell_type": "code",
      "source": [
        ""
      ],
      "metadata": {
        "id": "bwzvRwNT9XTW"
      },
      "execution_count": null,
      "outputs": []
    }
  ]
}